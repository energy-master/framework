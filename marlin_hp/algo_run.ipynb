{
 "cells": [
  {
   "cell_type": "markdown",
   "metadata": {},
   "source": [
    "## Harbour Popoise Detection Algorithm\n"
   ]
  },
  {
   "cell_type": "markdown",
   "metadata": {},
   "source": [
    "Ownership & Copyright Rahul Tandon, RSAqua 2024"
   ]
  },
  {
   "cell_type": "code",
   "execution_count": 1,
   "metadata": {},
   "outputs": [],
   "source": [
    "## \n",
    "# ===================================================\n",
    "# | Harbour Popoise Detection Genetic Algorithm     |\n",
    "# ===================================================\n",
    "#\n",
    "\n",
    "#\n",
    "#  c. Rahul Tandon, 2024, RSA 2024 \n",
    "##\n"
   ]
  },
  {
   "cell_type": "markdown",
   "metadata": {},
   "source": [
    "### Imports"
   ]
  },
  {
   "cell_type": "code",
   "execution_count": 2,
   "metadata": {},
   "outputs": [
    {
     "name": "stdout",
     "output_type": "stream",
     "text": [
      "EnergyFrequencyBound [1.0]\n",
      "Acoustic Bot [1.0]\n",
      "Decisions version : [1.0]\n"
     ]
    }
   ],
   "source": [
    "\n",
    "# import marlin data adapter\n",
    "from marlin_data.marlin_data import *\n",
    "# import marlin building blocks\n",
    "from marlinblocks import acoustic_frame as af\n",
    "from marlinblocks import model_frame as mf\n",
    "\n",
    "from marlinblocks import snapshot as snaps \n",
    "from marlinblocks import geo_frame as gf\n",
    "# datetime import\n",
    "from datetime import datetime, timedelta\n",
    "# numpy import\n",
    "import numpy as np\n",
    "# import logging, os and sys\n",
    "import logging, os, sys\n",
    "# import dotenv\n",
    "from dotenv import load_dotenv, dotenv_values\n",
    "import inspect\n",
    "\n",
    "from rich import pretty\n",
    "from rich.console import Console\n",
    "pretty.install()\n",
    "from rich import print as rprint\n",
    "from rich.progress import Progress\n",
    "\n",
    "\n",
    "load_dotenv()\n",
    "config = dotenv_values(\"marlin_hp.env\")\n",
    "logging.basicConfig(level=logging.CRITICAL)\n",
    "\n",
    "\n",
    "# --- FILE PATHS\n",
    "\n",
    "# add application root to path\n",
    "app_path = config['APP_DIR']\n",
    "sys.path.insert(0, app_path)\n",
    "\n",
    "# add brahma to system path\n",
    "brahma_path = config['BRAHMA_DIR']\n",
    "sys.path.insert(0, brahma_path)\n",
    "\n",
    "\n",
    "# Define location of bespoke genes\n",
    "GENETIC_DATA_FOLDER_USR = os.path.join(os.path.expanduser(\n",
    "    '~'), 'rs','dev', 'marlin_hp', 'marlin_hp', 'custom_genes', '')\n",
    "os.environ['GENETIC_DATA_FOLDER_USR'] = GENETIC_DATA_FOLDER_USR\n",
    "sys.path.insert(0, os.environ['GENETIC_DATA_FOLDER_USR'])\n",
    "\n",
    "# Define location of bespoke bots\n",
    "BOT_DATA_FOLDER_USR = os.path.join(os.path.expanduser(\n",
    "    '~'), 'rs','dev', 'marlin_hp', 'marlin_hp', 'custom_bots', '')\n",
    "os.environ['CUSTOM_BOT_FOLDER_USR'] = BOT_DATA_FOLDER_USR\n",
    "sys.path.insert(0, os.environ['CUSTOM_BOT_FOLDER_USR'])\n",
    "\n",
    "# Define bespoke decision logic\n",
    "DECISION_FOLDER_USR = os.path.join(os.path.expanduser(\n",
    "    '~'), 'rs','dev', 'marlin_hp', 'marlin_hp', 'custom_decisions', '')\n",
    "os.environ['DECISION_FOLDER_USR'] = DECISION_FOLDER_USR\n",
    "sys.path.insert(0, os.environ['DECISION_FOLDER_USR'])\n",
    "\n",
    "# import evolutionary procedures\n",
    "import marlin_brahma.bots.bot_root as bots\n",
    "import marlin_brahma.world.population as pop\n",
    "from marlin_brahma.fitness.performance import RootDecision\n",
    "import marlin_brahma.fitness.performance as performance\n",
    "\n",
    "#import app \n",
    "# from marlin_hp.custom_bots.mybots import *\n",
    "from custom_bots import *\n",
    "from custom_genes import *\n",
    "from custom_decisions import *\n",
    "\n",
    "\n",
    "# define data load path !- Don't add trailing \"/\" AND different path for sim and sig\n",
    "simulation_data_path = \"/home/vixen/rs/data/acoustic/ellen/raw_repo/hp/sim\"\n",
    "signature_data_path = \"/home/vixen/rs/data/acoustic/ellen/raw_repo/hp/sig\"\n",
    "\n",
    "\n",
    "\n",
    "# from marlin_brahma.world.population import *\n",
    "\n",
    "# # Define location of bespoke genes\n",
    "# GENETIC_DATA_FOLDER_USR = os.path.join(os.path.expanduser(\n",
    "#     '~'), 'rs','dev', 'marlin_hp', 'marlin_hp', 'custom_genes', '')\n",
    "# os.environ['GENETIC_DATA_FOLDER_USR'] = GENETIC_DATA_FOLDER_USR\n",
    "# sys.path.insert(0, os.environ['GENETIC_DATA_FOLDER_USR'])\n",
    "\n",
    "\n",
    "# # Define location of bespoke bots\n",
    "# BOT_DATA_FOLDER_USR = os.path.join(os.path.expanduser(\n",
    "#     '~'), 'rs','dev', 'marlin_hp', 'marlin_hp', 'custom_bots', '')\n",
    "# os.environ['CUSTOM_BOT_FOLDER_USR'] = BOT_DATA_FOLDER_USR\n",
    "# sys.path.insert(0, os.environ['CUSTOM_BOT_FOLDER_USR'])\n",
    "\n",
    "# # Define bespoke decision logic\n",
    "# DECISION_FOLDER_USR = os.path.join(os.path.expanduser(\n",
    "#     '~'), 'rs','dev', 'marlin_hp', 'marlin_hp', 'custom_decisions', '')\n",
    "# os.environ['DECISION_FOLDER_USR'] = DECISION_FOLDER_USR\n",
    "# sys.path.insert(0, os.environ['DECISION_FOLDER_USR'])\n",
    "\n"
   ]
  },
  {
   "cell_type": "markdown",
   "metadata": {},
   "source": [
    "### Class definitions"
   ]
  },
  {
   "cell_type": "markdown",
   "metadata": {},
   "source": [
    "#### Setup Class"
   ]
  },
  {
   "cell_type": "code",
   "execution_count": 3,
   "metadata": {},
   "outputs": [],
   "source": [
    "\n",
    "# --------------------------------------------------------------\n",
    "# --- Setup Class ---                                          |\n",
    "# --------------------------------------------------------------\n",
    "\n",
    "class AlgorithmSetup(object):\n",
    "    \"\"\"Class to control optimisation algorithm.\n",
    "\n",
    "    Args:\n",
    "        object (): root class object\n",
    "    \"\"\"     \n",
    "    def __init__(self, config_file_path : str = \"config.json\"):\n",
    "        \n",
    "        self.args = {}\n",
    "        \n",
    "        #load config file\n",
    "        run_config = None\n",
    "        with open(config_file_path, 'r') as config_f:\n",
    "            run_config = json.load(config_f)\n",
    "            \n",
    "        if run_config is not None:\n",
    "           self.args = run_config\n",
    "            \n",
    "   "
   ]
  },
  {
   "cell_type": "markdown",
   "metadata": {},
   "source": [
    "#### Main Application Class"
   ]
  },
  {
   "cell_type": "code",
   "execution_count": 4,
   "metadata": {},
   "outputs": [],
   "source": [
    "# --------------------------------------------------------------\n",
    "# --- Main Application Class ---                               |\n",
    "# --------------------------------------------------------------\n",
    "\n",
    "class SpeciesIdent(object):\n",
    "    \"\"\"_summary_\n",
    "\n",
    "    Args:\n",
    "        object (_type_): _description_\n",
    "    \"\"\"    \n",
    "    def __init__(self, setup : AlgorithmSetup = None):\n",
    "        self.algo_setup = setup\n",
    "        self.batch_id = random.randint(0,99999)\n",
    "        self.population = None\n",
    "        \n",
    "        # performance and evaluation\n",
    "        self.performance = None\n",
    "    \n",
    "    \n",
    "    def generation_reset(self):\n",
    "        self.performance = performance.Performance()\n",
    "    \n",
    "    # def connect_and_stream(self, download_args : {} = None) -> MarlinDataStreamer:\n",
    "    #     \"\"\"_summary_\n",
    "        \n",
    "    #     Args:\n",
    "    #         download_args (None, optional): _description_. Defaults to None.\n",
    "\n",
    "    #     Returns:\n",
    "    #         MarlinDataStreamer: _description_\n",
    "    #     \"\"\"     \n",
    "    #     # create the data adapter\n",
    "    #     data_adapter = MarlinData(load_args=download_args)\n",
    "        \n",
    "    #     # download signature data\n",
    "    #     #rprint(f\"[Downlaod Signature Snapshots]\")\n",
    "    #     #data_adapter.download_signatures(load_args = {'signature_ids' : []})\n",
    "    \n",
    "    #     # download simulation snapshots\n",
    "    #     rprint(f\"[Downlaod Simulation Snapshots]\")\n",
    "    #     data_adapter.download_simulation_snapshots(load_args = download_args)\n",
    "    \n",
    "    #     rprint (f\"Data Download complete.\")\n",
    "    #     rprint (f\"Number of simulation snapshots downloaded: {data_adapter.number_sim_snapshots}\")\n",
    "    #     rprint (f\"Number of marlin data acquisition runs: {data_adapter.number_runs}\")\n",
    "    #     rprint (\"Building Datafeed\")\n",
    "    \n",
    "    #     # create a MarlinDataStreamer\n",
    "    #     data_feed = MarlinDataStreamer()\n",
    "    #     # initilise the simulation datafeeder with downloaded data in data_adapter\n",
    "    #     data_feed.init_data(data_adapter.simulation_data, data_adapter.simulation_index)\n",
    "        \n",
    "    #     return data_feed\n",
    "        \n",
    "    def run(self):\n",
    "        pass\n",
    "    \n",
    "    def build_world(self):\n",
    "        \"\"\"Build the population of bots using brahma_marlin. Genes are present in ../genes\n",
    "        \"\"\"\n",
    "        \n",
    "        try:\n",
    "            logging.debug('Building population')\n",
    "            self.population = pop.Population(parms=self.algo_setup.args, name=\"hp_classifier\")\n",
    "            self.population.Populate(species=\"AcousticBot\", args = None)\n",
    "            logging.debug(\"Population built\")\n",
    "        except Exception as err:\n",
    "            logging.critical(f\"Error building population {err=} {type(err)=}\")\n",
    "        \n",
    "    def evolve_world(self):\n",
    "        pass\n",
    "    \n",
    "    def output_world(self):\n",
    "        pass\n",
    "      "
   ]
  },
  {
   "cell_type": "markdown",
   "metadata": {},
   "source": [
    "#### Bot Interation Routine"
   ]
  },
  {
   "cell_type": "code",
   "execution_count": null,
   "metadata": {},
   "outputs": [],
   "source": [
    "def bot_iteration(bot : bots = None, data_adapter : MarlinData = None, data_feed : MarlinDataStreamer = None, config : dict[str : str] = None) -> int:\n",
    "    if bot is not None:\n",
    "        \n",
    "        # reset data feed for new iteration\n",
    "        #data_feed.reset()\n",
    "        listen_start_idx = 0\n",
    "        listen_end_idx = 0\n",
    "        for env_pressure in data_feed:\n",
    "            \n",
    "            listen_delta_idx = config['listen_delta_t'] * env_pressure.meta_data['sample_rate']\n",
    "            env_pressure_length = env_pressure.frequency_ts_np.shape[0]\n",
    "            sample_rate = env_pressure.meta_data['sample_rate']\n",
    "            \n",
    "            while listen_start_idx < env_pressure_length:\n",
    "                \n",
    "                # --- get start & end slice idx ---\n",
    "                listen_end_idx = listen_start_idx + listen_delta_idx\n",
    "                slice_start = listen_start_idx\n",
    "                slice_end = min(listen_end_idx,env_pressure_length-1)\n",
    "                \n",
    "                # --- get datetime ---\n",
    "                _s = (slice_start / env_pressure.meta_data['sample_rate']) * 1000 # ms \n",
    "                iter_start_time =  env_pressure.start_time +    timedelta(milliseconds=_s)\n",
    "                _s = (slice_end / env_pressure.meta_data['sample_rate']) * 1000\n",
    "                iter_end_time   =  env_pressure.start_time  +   timedelta(milliseconds=_s)\n",
    "                # print (f'{iter_start_time} : {iter_end_time}')\n",
    "                \n",
    "                # --- express bot ---\n",
    "                # [nb. data structure is passed to individual genes if dna is initialised.\n",
    "                # extra data can be added under 'init_data' field]\n",
    "                express_value = bot.ExpressDNA(data = {'current_data' :  env_pressure.frequency_ts_np.shape[slice_start:slice_end], 'derived_model_data' : data_adapter.derived_data, 'iter_start_time' : iter_start_time, 'iter_end_time' : iter_end_time})\n",
    "                # print (f'Express level: {bot.dNAExpression}')\n",
    "                \n",
    "                # --- transcription ---\n",
    "                # print (bot.transcriptionDNA.transcription_threshold)\n",
    "                transcription_data = {\n",
    "                    'expression_data': bot.GetExpressionData(),\n",
    "                }\n",
    "                \n",
    "                transcribe_result = bot.transcriptionDNA.transcribe(transcription_data)\n",
    "                # print (transcribe_result)\n",
    "                \n",
    "                \n",
    "                # ======Decision & Marking=========================\n",
    "                # --- make and add decision ---\n",
    "                \n",
    "                decision_args = {\n",
    "                    'status' : 1,\n",
    "                    'env' : config['env'],\n",
    "                    'iter_start_time' : iter_start_time,\n",
    "                    'iter_end_time' : iter_end_time,\n",
    "                    'action' : 1,\n",
    "                    'type' : \"HP Ident\"\n",
    "                    \n",
    "                }\n",
    "                \n",
    "                new_decision = IdentDecision(decision_data=decision_args)\n",
    "                application.performance.add_decision(decision=new_decision, epoch = \"1\", botID = bot.name)\n",
    "                \n",
    "                \n",
    "                # ================================================\n",
    "                # query dataset to mark decision\n",
    "                # ================================================\n",
    "                xr = False\n",
    "                xr_data = data_adapter.derived_data.query_label(iter_start_time, iter_end_time)\n",
    "                if xr_data['xr']:\n",
    "                    print (\"match\")\n",
    "                    print (xr_data)\n",
    "                    xr = True\n",
    "                \n",
    "               \n",
    "                \n",
    "                # ================================================\n",
    "               \n",
    "                \n",
    "                \n",
    "                decision_args = {\n",
    "                    'status' : 0,\n",
    "                    'env' : config['env'],\n",
    "                    'iter_start_time' : iter_start_time,\n",
    "                    'iter_end_time' : iter_end_time,\n",
    "                    'action' : 0,\n",
    "                    'type' : \"HP Ident\",\n",
    "                    'success' : xr\n",
    "                }\n",
    "                close_decision = IdentDecision(decision_data=decision_args)\n",
    "                application.performance.add_decision(decision=close_decision, epoch = \"1\", botID = bot.name)\n",
    "                \n",
    "                \n",
    "                \n",
    "                # =================================================\n",
    "                \n",
    "                \n",
    "                # update listen start idx\n",
    "                listen_start_idx = listen_end_idx\n",
    "                \n",
    "            \n",
    "    else:\n",
    "        logging.debug(\"Bot not alive!\")"
   ]
  },
  {
   "cell_type": "markdown",
   "metadata": {},
   "source": [
    "#### Entry, Data Initialisation, and World Creation "
   ]
  },
  {
   "cell_type": "code",
   "execution_count": 5,
   "metadata": {},
   "outputs": [
    {
     "data": {
      "text/html": [
       "<pre style=\"white-space:pre;overflow-x:auto;line-height:normal;font-family:Menlo,'DejaVu Sans Mono',consolas,'Courier New',monospace\">Building World\n",
       "</pre>\n"
      ],
      "text/plain": [
       "Building World\n"
      ]
     },
     "metadata": {},
     "output_type": "display_data"
    },
    {
     "data": {
      "text/html": [
       "<pre style=\"white-space:pre;overflow-x:auto;line-height:normal;font-family:Menlo,'DejaVu Sans Mono',consolas,'Courier New',monospace\">logging level : <span style=\"color: #008080; text-decoration-color: #008080; font-weight: bold\">0</span>\n",
       "</pre>\n"
      ],
      "text/plain": [
       "logging level : \u001b[1;36m0\u001b[0m\n"
      ]
     },
     "metadata": {},
     "output_type": "display_data"
    },
    {
     "data": {
      "text/html": [
       "<pre style=\"white-space:pre;overflow-x:auto;line-height:normal;font-family:Menlo,'DejaVu Sans Mono',consolas,'Courier New',monospace\">Creating algorithm setup\n",
       "</pre>\n"
      ],
      "text/plain": [
       "Creating algorithm setup\n"
      ]
     },
     "metadata": {},
     "output_type": "display_data"
    },
    {
     "data": {
      "text/html": [
       "<pre style=\"white-space:pre;overflow-x:auto;line-height:normal;font-family:Menlo,'DejaVu Sans Mono',consolas,'Courier New',monospace\">Creating Application\n",
       "</pre>\n"
      ],
      "text/plain": [
       "Creating Application\n"
      ]
     },
     "metadata": {},
     "output_type": "display_data"
    },
    {
     "data": {
      "text/html": [
       "<pre style=\"white-space:pre;overflow-x:auto;line-height:normal;font-family:Menlo,'DejaVu Sans Mono',consolas,'Courier New',monospace\">Creating world\n",
       "</pre>\n"
      ],
      "text/plain": [
       "Creating world\n"
      ]
     },
     "metadata": {},
     "output_type": "display_data"
    },
    {
     "name": "stdout",
     "output_type": "stream",
     "text": [
      "we have dust\n"
     ]
    },
    {
     "name": "stderr",
     "output_type": "stream",
     "text": [
      "100%|██████████| 10/10 [00:00<00:00, 6728.11it/s]"
     ]
    },
    {
     "name": "stdout",
     "output_type": "stream",
     "text": [
      "Tag: 2812 Market: harbour_porpois ; Data Required: 1 ; Delay: 1 Delta D: 1 Genome Size: 1; Init: False\n",
      "Tag: genome6763 Size: 1 ; Environment harbour_porpois\n",
      "*************** DETAILS ************ \n",
      "Tag: geneTag4208 Type: energy_frequency_bound\n",
      "\n",
      "Tag: 4737 Market: harbour_porpois ; Data Required: 1 ; Delay: 6 Delta D: 1 Genome Size: 1; Init: False\n",
      "Tag: genome4282 Size: 1 ; Environment harbour_porpois\n",
      "*************** DETAILS ************ \n",
      "Tag: geneTag62079 Type: energy_frequency_bound\n",
      "\n",
      "Tag: 39250 Market: harbour_porpois ; Data Required: 1 ; Delay: 2 Delta D: 1 Genome Size: 1; Init: False\n",
      "Tag: genome2544 Size: 1 ; Environment harbour_porpois\n",
      "*************** DETAILS ************ \n",
      "Tag: geneTag62815 Type: energy_frequency_bound\n",
      "\n",
      "Tag: 36261 Market: harbour_porpois ; Data Required: 1 ; Delay: 1 Delta D: 1 Genome Size: 1; Init: False\n",
      "Tag: genome5932 Size: 1 ; Environment harbour_porpois\n",
      "*************** DETAILS ************ \n",
      "Tag: geneTag44417 Type: energy_frequency_bound\n",
      "\n",
      "Tag: 61422 Market: harbour_porpois ; Data Required: 1 ; Delay: 4 Delta D: 1 Genome Size: 1; Init: False\n",
      "Tag: genome130 Size: 1 ; Environment harbour_porpois\n",
      "*************** DETAILS ************ \n",
      "Tag: geneTag5577 Type: energy_frequency_bound\n",
      "\n",
      "Tag: 9601 Market: harbour_porpois ; Data Required: 1 ; Delay: 2 Delta D: 1 Genome Size: 1; Init: False\n",
      "Tag: genome9636 Size: 1 ; Environment harbour_porpois\n",
      "*************** DETAILS ************ \n",
      "Tag: geneTag13522 Type: energy_frequency_bound\n",
      "\n",
      "Tag: 55989 Market: harbour_porpois ; Data Required: 1 ; Delay: 7 Delta D: 1 Genome Size: 1; Init: False\n",
      "Tag: genome8236 Size: 1 ; Environment harbour_porpois\n",
      "*************** DETAILS ************ \n",
      "Tag: geneTag71587 Type: energy_frequency_bound\n",
      "\n",
      "Tag: 54488 Market: harbour_porpois ; Data Required: 1 ; Delay: 7 Delta D: 1 Genome Size: 1; Init: False\n",
      "Tag: genome2353 Size: 1 ; Environment harbour_porpois\n",
      "*************** DETAILS ************ \n",
      "Tag: geneTag29458 Type: energy_frequency_bound\n",
      "\n",
      "Tag: 47446 Market: harbour_porpois ; Data Required: 1 ; Delay: 0 Delta D: 1 Genome Size: 1; Init: False\n",
      "Tag: genome4445 Size: 1 ; Environment harbour_porpois\n",
      "*************** DETAILS ************ \n",
      "Tag: geneTag19971 Type: energy_frequency_bound\n",
      "\n",
      "Tag: 52695 Market: harbour_porpois ; Data Required: 1 ; Delay: 0 Delta D: 1 Genome Size: 1; Init: False\n",
      "Tag: genome4405 Size: 1 ; Environment harbour_porpois\n",
      "*************** DETAILS ************ \n",
      "Tag: geneTag56227 Type: energy_frequency_bound\n",
      "\n"
     ]
    },
    {
     "name": "stderr",
     "output_type": "stream",
     "text": [
      "\n"
     ]
    },
    {
     "data": {
      "text/html": [
       "<pre style=\"white-space:pre;overflow-x:auto;line-height:normal;font-family:Menlo,'DejaVu Sans Mono',consolas,'Courier New',monospace\">Building Adapter\n",
       "</pre>\n"
      ],
      "text/plain": [
       "Building Adapter\n"
      ]
     },
     "metadata": {},
     "output_type": "display_data"
    },
    {
     "data": {
      "text/html": [
       "<pre style=\"white-space:pre;overflow-x:auto;line-height:normal;font-family:Menlo,'DejaVu Sans Mono',consolas,'Courier New',monospace\"><span style=\"font-weight: bold\">[</span>Download Signature Snapshots<span style=\"font-weight: bold\">]</span>\n",
       "</pre>\n"
      ],
      "text/plain": [
       "\u001b[1m[\u001b[0mDownload Signature Snapshots\u001b[1m]\u001b[0m\n"
      ]
     },
     "metadata": {},
     "output_type": "display_data"
    },
    {
     "data": {
      "text/html": [
       "<pre style=\"white-space:pre;overflow-x:auto;line-height:normal;font-family:Menlo,'DejaVu Sans Mono',consolas,'Courier New',monospace\"><span style=\"font-weight: bold\">[</span>Download Simulation Snapshots<span style=\"font-weight: bold\">]</span>\n",
       "</pre>\n"
      ],
      "text/plain": [
       "\u001b[1m[\u001b[0mDownload Simulation Snapshots\u001b[1m]\u001b[0m\n"
      ]
     },
     "metadata": {},
     "output_type": "display_data"
    },
    {
     "name": "stdout",
     "output_type": "stream",
     "text": [
      "5 snapshots loaded. Limit : 5\n"
     ]
    },
    {
     "data": {
      "text/html": [
       "<pre style=\"white-space:pre;overflow-x:auto;line-height:normal;font-family:Menlo,'DejaVu Sans Mono',consolas,'Courier New',monospace\">Simulation Data Download/Load complete. Number of files : <span style=\"color: #008080; text-decoration-color: #008080; font-weight: bold\">5</span>\n",
       "</pre>\n"
      ],
      "text/plain": [
       "Simulation Data Download/Load complete. Number of files : \u001b[1;36m5\u001b[0m\n"
      ]
     },
     "metadata": {},
     "output_type": "display_data"
    },
    {
     "name": "stdout",
     "output_type": "stream",
     "text": [
      "5 snapshots loaded. Limit : 5\n"
     ]
    },
    {
     "data": {
      "text/html": [
       "<pre style=\"white-space:pre;overflow-x:auto;line-height:normal;font-family:Menlo,'DejaVu Sans Mono',consolas,'Courier New',monospace\">Signature Data Download/Load complete. Number of files : <span style=\"color: #008080; text-decoration-color: #008080; font-weight: bold\">5</span>\n",
       "</pre>\n"
      ],
      "text/plain": [
       "Signature Data Download/Load complete. Number of files : \u001b[1;36m5\u001b[0m\n"
      ]
     },
     "metadata": {},
     "output_type": "display_data"
    },
    {
     "name": "stdout",
     "output_type": "stream",
     "text": [
      "{'number snapshots': 560, 'number times': 560, 'index size': 5}\n",
      "{'number snapshots': 560, 'number times': 30, 'index size': 5}\n"
     ]
    }
   ],
   "source": [
    "     \n",
    "# --------------------------------------------------------------\n",
    "# --- Entry Function ---                                       |\n",
    "# --------------------------------------------------------------\n",
    "\n",
    "rprint (\"Building World\")\n",
    "# if __name__ == \"__main__\":\n",
    "logging.basicConfig(level=logging.CRITICAL)\n",
    "logger = logging.getLogger(__name__)\n",
    "rprint(f'logging level : {logger.level}')\n",
    "# --- ALGORITHM SETUP ---\n",
    "\n",
    "\n",
    "rprint (\"Creating algorithm setup\")\n",
    "algo_setup = AlgorithmSetup(config_file_path=\"config.json\")\n",
    "\n",
    "rprint (\"Creating Application\")\n",
    "application = SpeciesIdent(algo_setup)\n",
    "\n",
    "rprint (\"Creating world\")\n",
    "application.build_world()\n",
    "\n",
    "# --- DATA CONNECTION AND DOWNLOAD ---\n",
    "\n",
    "\n",
    "# Grab data snapshot ids from Marlin Ident\n",
    "# data_src_json = \"data_conn_neltey.json\"\n",
    "# with open(data_src_json) as fp:\n",
    "#     src_data_snapshots = json.load(fp)\n",
    "    \n",
    "\n",
    "# --------------------------------------------------------------\n",
    "# --- 1. Download / Load data from RSA signature and simualtion db -  |\n",
    "# --------------------------------------------------------------\n",
    "rprint (\"Building Adapter\")\n",
    "# create the data adapter\n",
    "data_adapter = MarlinData(load_args={'limit' : 100000})\n",
    "\n",
    "# download signature data\n",
    "rprint(f\"[Download Signature Snapshots]\")\n",
    "#data_adapter.download_signatures(load_args = {'signature_ids' : []})\n",
    "\n",
    "# print (src_data_snapshots)\n",
    "# download simulation snapshots\n",
    "rprint(f\"[Download Simulation Snapshots]\")\n",
    "# src_data_snapshots = list(map(int, src_data_snapshots))\n",
    "# data_adapter.download_simulation_snapshots(load_args = {'location' : 'netley', 'ss_ids' : src_data_snapshots})\n",
    "# data_adapter.download_simulation_snapshots(load_args = {'location' : algo_setup.args['data_location']})\n",
    "r = data_adapter.load_from_path(load_args={'load_path' : simulation_data_path, \"snapshot_type\":\"simulation\", \"limit\" : 5})\n",
    "rprint (f\"Simulation Data Download/Load complete. Number of files : {len(data_adapter.simulation_index)}\")\n",
    "\n",
    "# downlaod / load labelled data\n",
    "# data_adapter.download_signature_snapshots(load_args={\"limit\":100000})\n",
    "t = data_adapter.load_from_path(load_args={'load_path' : signature_data_path, \"snapshot_type\":\"signature\", \"limit\" : 5})\n",
    "rprint (f\"Signature Data Download/Load complete. Number of files : {len(data_adapter.signature_index)}\")\n",
    "print (r)\n",
    "print (t)\n"
   ]
  },
  {
   "cell_type": "code",
   "execution_count": 6,
   "metadata": {},
   "outputs": [
    {
     "name": "stdout",
     "output_type": "stream",
     "text": [
      "[153031, 308268, 90454, 834813, 398551]\n"
     ]
    }
   ],
   "source": [
    "\n",
    "data_adapter.build_game()"
   ]
  },
  {
   "cell_type": "markdown",
   "metadata": {},
   "source": [
    "### Optimisation"
   ]
  },
  {
   "cell_type": "markdown",
   "metadata": {},
   "source": [
    "Having built the world and connected it to the data, we can now optimise the bots."
   ]
  },
  {
   "cell_type": "code",
   "execution_count": 13,
   "metadata": {},
   "outputs": [
    {
     "data": {
      "text/html": [
       "<pre style=\"white-space:pre;overflow-x:auto;line-height:normal;font-family:Menlo,'DejaVu Sans Mono',consolas,'Courier New',monospace\">Building Simulation Datafeed\n",
       "</pre>\n"
      ],
      "text/plain": [
       "Building Simulation Datafeed\n"
      ]
     },
     "metadata": {},
     "output_type": "display_data"
    },
    {
     "name": "stdout",
     "output_type": "stream",
     "text": [
      "---\n",
      "<marlin_data.marlin_data.MarlinDataStreamer object at 0x7f3a60530450>\n",
      "l: 0\n"
     ]
    },
    {
     "data": {
      "text/html": [
       "<pre style=\"white-space:pre;overflow-x:auto;line-height:normal;font-family:Menlo,'DejaVu Sans Mono',consolas,'Courier New',monospace\">Building Derived Data\n",
       "</pre>\n"
      ],
      "text/plain": [
       "Building Derived Data\n"
      ]
     },
     "metadata": {},
     "output_type": "display_data"
    },
    {
     "data": {
      "text/html": [
       "<pre style=\"white-space:pre;overflow-x:auto;line-height:normal;font-family:Menlo,'DejaVu Sans Mono',consolas,'Courier New',monospace\">Building Signature Datafeed\n",
       "</pre>\n"
      ],
      "text/plain": [
       "Building Signature Datafeed\n"
      ]
     },
     "metadata": {},
     "output_type": "display_data"
    }
   ],
   "source": [
    "\n",
    "#----------------------------------------------------------------\n",
    "# --- 2. Build datafeed                                         |\n",
    "# ---------------------------------------------------------------\n",
    "\n",
    "rprint (\"Building Simulation Datafeed\")\n",
    "\n",
    "print (\"---\")\n",
    "# create a MarlinDataStreamer\n",
    "data_feed_ = MarlinDataStreamer()\n",
    "print (data_feed_)\n",
    "# initilise the simulation datafeeder with downloaded data in data_adapter\n",
    "data_feed_.init_data(data_adapter.simulation_data, data_adapter.simulation_index)\n",
    "# print (data_adapter.simulation_data)\n",
    "# print (data_adapter.simulation_index)\n",
    "# randomise setup parameters\n",
    "batch_id = random.randint(0,99999)\n",
    "sample_number = 0\n",
    "\n",
    "print (f'l: {len(data_adapter.simulation_index)}')\n",
    "rprint (\"Building Derived Data\")\n",
    "# buid derive data structure\n",
    "data_adapter.build_derived_data(n_fft=2048)\n",
    "# build labelled data streamer\n",
    "\n",
    "rprint (\"Building Signature Datafeed\")\n",
    "labelled_data_feed = MarlinDataStreamer()\n",
    "labelled_data_feed.init_data(data_adapter.signature_data, data_adapter.signature_index)\n",
    "\n",
    "\n",
    "# build lablled data structure in derived data required for cross referencing (xr)\n",
    "for labelled_data in labelled_data_feed:\n",
    "    # print (labelled_data )\n",
    "    data_adapter.derived_data.build_derived_labelled_data(signature_data=labelled_data)\n",
    "\n",
    "\n"
   ]
  },
  {
   "cell_type": "code",
   "execution_count": 10,
   "metadata": {},
   "outputs": [
    {
     "name": "stdout",
     "output_type": "stream",
     "text": [
      "0\n",
      "5\n",
      "[]\n"
     ]
    }
   ],
   "source": [
    "\n",
    "# ---------------------------------------------------------------\n",
    "# --- 3. Build derived data                                     |\n",
    "# ---------------------------------------------------------------\n",
    "# rprint (\"Building Derived Data\")\n",
    "# # buid derive data structure\n",
    "# data_adapter.build_derived_data(n_fft=2048)\n",
    "\n",
    "print (data_feed_.data_vec_length)\n",
    "print (labelled_data_feed.data_vec_length)\n",
    "\n",
    "# for key, value in data_feed_.data_feed.items() :\n",
    "#     print (key)\n",
    "\n",
    "print (data_feed_.data_ids)\n",
    "\n",
    "for data_inst in data_feed_:\n",
    "    \n",
    "    pass\n",
    "#     # data_adapter.derived_data.build_derived_data(data_inst)\n",
    "#     print (f'{data_inst.start_time}')\n",
    "\n",
    "\n",
    "# print (\"\\n\")\n",
    "# print (f'Data start time : {data_adapter.derived_data.data_start_time} End time : {data_adapter.derived_data.data_end_time}')\n",
    "# print (f'Number of energy frames : {data_adapter.derived_data.number_energy_frames}')\n",
    "# print (f'Maximum f : {data_adapter.derived_data.max_freq}')\n",
    "# print (f'Minimum f : {data_adapter.derived_data.min_freq}')\n",
    "# print (f'Delta f : {data_adapter.derived_data.delta_frequency}')\n",
    "\n",
    "\n"
   ]
  },
  {
   "cell_type": "code",
   "execution_count": null,
   "metadata": {},
   "outputs": [],
   "source": [
    "\n",
    "# ---------------------------------------------------------------\n",
    "# --- 4. Run World      ---                                     |\n",
    "# ---------------------------------------------------------------\n",
    "\n",
    "\n",
    "for generation_number in range(0, algo_setup.args['number_generations']):\n",
    "\n",
    "    # build generational performance management\n",
    "    application.generation_reset()\n",
    "   \n",
    "    for individual_idx in range(0, algo_setup.args['population_size']):\n",
    "        \n",
    "        # get bot name\n",
    "        bot_name = application.population.bots[individual_idx]\n",
    "        \n",
    "        # debug -> bot data\n",
    "        _bot = application.population.species[bot_name]\n",
    "        #print (_bot.printStr())\n",
    "        \n",
    "        # run bot iteration\n",
    "        iter_res = bot_iteration(application.population.species[bot_name], data_adapter, data_feed, config=algo_setup.args)\n",
    "        \n",
    "    # show decisions\n",
    "    # application.performance.showBotDecisions()\n",
    "    \n",
    "    # evaluate & rank\n",
    "    application.performance.evaluateBots(application.population.species, args=algo_setup.args)\n",
    "    application.performance.text_output_fitness()\n",
    "    # evolution\n",
    "    \n",
    "    \n",
    "        \n",
    "        \n",
    "    \n",
    "    \n",
    "    "
   ]
  }
 ],
 "metadata": {
  "kernelspec": {
   "display_name": "Python 3",
   "language": "python",
   "name": "python3"
  },
  "language_info": {
   "codemirror_mode": {
    "name": "ipython",
    "version": 3
   },
   "file_extension": ".py",
   "mimetype": "text/x-python",
   "name": "python",
   "nbconvert_exporter": "python",
   "pygments_lexer": "ipython3",
   "version": "3.11.8"
  }
 },
 "nbformat": 4,
 "nbformat_minor": 2
}
